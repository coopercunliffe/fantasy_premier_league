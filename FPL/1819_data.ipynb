{
 "cells": [
  {
   "cell_type": "code",
   "execution_count": 5,
   "metadata": {},
   "outputs": [],
   "source": [
    "import pandas as pd\n",
    "import numpy as np\n",
    "import requests"
   ]
  },
  {
   "cell_type": "code",
   "execution_count": null,
   "metadata": {},
   "outputs": [],
   "source": []
  },
  {
   "cell_type": "code",
   "execution_count": 10,
   "metadata": {},
   "outputs": [
    {
     "data": {
      "text/plain": [
       "Index(['name', 'assists', 'attempted_passes', 'big_chances_created',\n",
       "       'big_chances_missed', 'bonus', 'bps', 'clean_sheets',\n",
       "       'clearances_blocks_interceptions', 'completed_passes', 'creativity',\n",
       "       'dribbles', 'ea_index', 'element', 'errors_leading_to_goal',\n",
       "       'errors_leading_to_goal_attempt', 'fixture', 'fouls', 'goals_conceded',\n",
       "       'goals_scored', 'ict_index', 'id', 'influence', 'key_passes',\n",
       "       'kickoff_time', 'kickoff_time_formatted', 'loaned_in', 'loaned_out',\n",
       "       'minutes', 'offside', 'open_play_crosses', 'opponent_team', 'own_goals',\n",
       "       'penalties_conceded', 'penalties_missed', 'penalties_saved',\n",
       "       'recoveries', 'red_cards', 'round', 'saves', 'selected', 'tackled',\n",
       "       'tackles', 'target_missed', 'team_a_score', 'team_h_score', 'threat',\n",
       "       'total_points', 'transfers_balance', 'transfers_in', 'transfers_out',\n",
       "       'value', 'was_home', 'winning_goals', 'yellow_cards', 'GW'],\n",
       "      dtype='object')"
      ]
     },
     "execution_count": 10,
     "metadata": {},
     "output_type": "execute_result"
    }
   ],
   "source": [
    "url = 'https://raw.githubusercontent.com/vaastav/Fantasy-Premier-League/master/data/2018-19/gws/merged_gw.csv'\n",
    "\n",
    "df1819 = pd.read_csv(url, encoding='latin1')\n",
    "\n",
    "df1819.columns"
   ]
  },
  {
   "cell_type": "code",
   "execution_count": 11,
   "metadata": {},
   "outputs": [],
   "source": [
    "df1819.to_csv('df1819')"
   ]
  },
  {
   "cell_type": "code",
   "execution_count": null,
   "metadata": {},
   "outputs": [],
   "source": []
  },
  {
   "cell_type": "code",
   "execution_count": null,
   "metadata": {},
   "outputs": [],
   "source": []
  },
  {
   "cell_type": "code",
   "execution_count": null,
   "metadata": {},
   "outputs": [],
   "source": []
  },
  {
   "cell_type": "code",
   "execution_count": null,
   "metadata": {},
   "outputs": [],
   "source": []
  },
  {
   "cell_type": "code",
   "execution_count": null,
   "metadata": {},
   "outputs": [],
   "source": []
  },
  {
   "cell_type": "code",
   "execution_count": null,
   "metadata": {},
   "outputs": [],
   "source": []
  },
  {
   "cell_type": "code",
   "execution_count": null,
   "metadata": {},
   "outputs": [],
   "source": []
  },
  {
   "cell_type": "code",
   "execution_count": null,
   "metadata": {},
   "outputs": [],
   "source": []
  },
  {
   "cell_type": "code",
   "execution_count": null,
   "metadata": {},
   "outputs": [],
   "source": []
  },
  {
   "cell_type": "code",
   "execution_count": null,
   "metadata": {},
   "outputs": [],
   "source": []
  },
  {
   "cell_type": "code",
   "execution_count": null,
   "metadata": {},
   "outputs": [],
   "source": []
  },
  {
   "cell_type": "code",
   "execution_count": null,
   "metadata": {},
   "outputs": [],
   "source": []
  }
 ],
 "metadata": {
  "kernelspec": {
   "display_name": "Python 3",
   "language": "python",
   "name": "python3"
  },
  "language_info": {
   "codemirror_mode": {
    "name": "ipython",
    "version": 3
   },
   "file_extension": ".py",
   "mimetype": "text/x-python",
   "name": "python",
   "nbconvert_exporter": "python",
   "pygments_lexer": "ipython3",
   "version": "3.7.3"
  }
 },
 "nbformat": 4,
 "nbformat_minor": 2
}
